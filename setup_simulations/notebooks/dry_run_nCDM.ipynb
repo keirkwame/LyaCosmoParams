{
 "cells": [
  {
   "cell_type": "markdown",
   "metadata": {},
   "source": [
    "# Given a potential suite of simulations, figure out emulator space covered"
   ]
  },
  {
   "cell_type": "code",
   "execution_count": 1,
   "metadata": {},
   "outputs": [],
   "source": [
    "%matplotlib inline\n",
    "%load_ext autoreload\n",
    "%autoreload 2\n",
    "import numpy as np\n",
    "import os\n",
    "import copy\n",
    "## Set default plot size, as normally its a bit too small\n",
    "import matplotlib.pyplot as plt\n",
    "import matplotlib as mpl\n",
    "mpl.rcParams['savefig.dpi'] = 120\n",
    "mpl.rcParams['figure.dpi'] = 120\n",
    "import camb_cosmo\n",
    "import fit_linP\n",
    "import sim_params_cosmo\n",
    "import sim_params_space\n",
    "import read_genic\n",
    "import write_config\n",
    "import latin_hypercube\n",
    "import corner\n",
    "import p1d_arxiv"
   ]
  },
  {
   "cell_type": "markdown",
   "metadata": {},
   "source": [
    "### Plot initial Latin hypercube"
   ]
  },
  {
   "cell_type": "code",
   "execution_count": 2,
   "metadata": {},
   "outputs": [
    {
     "name": "stdout",
     "output_type": "stream",
     "text": [
      "Om_star {'ip': 0, 'min_val': 0.977, 'max_val': 0.986, 'z_star': 4.0, 'latex': '$\\\\Omega_\\\\star$'}\n",
      "Delta2_star {'ip': 1, 'min_val': 0.35, 'max_val': 0.55, 'z_star': 4.0, 'kp_Mpc': 2.0, 'latex': '$\\\\Delta^2_\\\\star$'}\n",
      "Alpha {'ip': 2, 'min_val': 0.0, 'max_val': 0.1, 'latex': '$\\\\alpha$'}\n",
      "Beta {'ip': 3, 'min_val': 0.0, 'max_val': 10.0, 'latex': '$\\\\beta$'}\n",
      "Gamma {'ip': 4, 'min_val': -10.0, 'max_val': 0.0, 'latex': '$\\\\gamma$'}\n",
      "n_star {'ip': 5, 'min_val': -2.53, 'max_val': -2.43, 'z_star': 4.0, 'kp_Mpc': 2.0, 'latex': '$n_\\\\star$'}\n",
      "mu_He {'ip': 6, 'min_val': 0.5, 'max_val': 2.0, 'latex': '$\\\\mu_{\\\\rm He}$'}\n",
      "mu_H {'ip': 7, 'min_val': 0.5, 'max_val': 2.0, 'latex': '$\\\\mu_{\\\\rm H}$'}\n"
     ]
    }
   ],
   "source": [
    "# get list of simulation parameters\n",
    "add_slope=True\n",
    "add_running=False\n",
    "add_mu_He=True\n",
    "add_mu_H=True\n",
    "param_space=sim_params_space.SimulationParameterSpace(add_slope=add_slope,add_running=add_running,\n",
    "                                                      add_mu_He=add_mu_He,add_mu_H=add_mu_H, z_star=4., kp_Mpc=2.)\n",
    "params=param_space.params\n",
    "for key,param in params.items():\n",
    "    print(key,param)"
   ]
  },
  {
   "cell_type": "code",
   "execution_count": 3,
   "metadata": {},
   "outputs": [
    {
     "name": "stdout",
     "output_type": "stream",
     "text": [
      "z_star = 4.0\n",
      "kp_Mpc = 2.0\n"
     ]
    }
   ],
   "source": [
    "# get pivot point\n",
    "z_star=params['Om_star']['z_star']\n",
    "kp_Mpc=params['Delta2_star']['kp_Mpc']\n",
    "print('z_star =',z_star)\n",
    "print('kp_Mpc =',kp_Mpc)\n",
    "Npar=len(params)\n",
    "param_limits=np.empty([Npar,2])\n",
    "for key,param in params.items():\n",
    "    ip=param['ip']\n",
    "    param_limits[ip][0]=param['min_val']\n",
    "    param_limits[ip][1]=param['max_val']"
   ]
  },
  {
   "cell_type": "code",
   "execution_count": null,
   "metadata": {},
   "outputs": [],
   "source": [
    "# generate Latin hypercube \n",
    "nsamples=35\n",
    "seed=123\n",
    "cube=latin_hypercube.get_hypercube_samples(param_limits, nsamples, prior_points = None, seed=seed)"
   ]
  },
  {
   "cell_type": "code",
   "execution_count": null,
   "metadata": {
    "scrolled": false
   },
   "outputs": [],
   "source": [
    "labels=['']*Npar\n",
    "for key,param in params.items():\n",
    "    ip=param['ip']\n",
    "    labels[ip]=param['latex']\n",
    "corner.corner(cube,labels=labels)"
   ]
  },
  {
   "cell_type": "markdown",
   "metadata": {},
   "source": [
    "###  Plot cosmological parameters in initial setup"
   ]
  },
  {
   "cell_type": "code",
   "execution_count": 4,
   "metadata": {},
   "outputs": [
    {
     "name": "stdout",
     "output_type": "stream",
     "text": [
      "H0 = 6.7000E+01, Omega_b h^2 = 2.2000E-02, Omega_c h^2 = 1.2000E-01, Omega_k = 0.0000E+00, Omega_nu h^2 = 0.0000E+00, T_CMB = 2.7255E+00, A_s = 2.1000E-09, n_s = 9.6500E-01, alpha_s = 0.0000E+00\n",
      "fiducial linear power parameters {'f_star': 0.9898224493399295, 'g_star': 0.9835091539526485, 'Delta2_star': 0.43847556546253746, 'n_star': -2.482734250814445, 'alpha_star': -0.13475631230743798}\n"
     ]
    }
   ],
   "source": [
    "# get fiducial cosmology\n",
    "cosmo_fid = camb_cosmo.get_cosmology()\n",
    "camb_cosmo.print_info(cosmo_fid)\n",
    "# setup fiducial linear power model\n",
    "linP_model_fid=fit_linP.LinearPowerModel(cosmo=cosmo_fid,z_star=4.,k_units='Mpc',kp=2.)\n",
    "print('fiducial linear power parameters',linP_model_fid.get_params())"
   ]
  },
  {
   "cell_type": "code",
   "execution_count": 5,
   "metadata": {},
   "outputs": [
    {
     "data": {
      "text/plain": [
       "0.05"
      ]
     },
     "execution_count": 5,
     "metadata": {},
     "output_type": "execute_result"
    }
   ],
   "source": [
    "linP_model_fid.cosmo.InitPower.pivot_scalar\n"
   ]
  },
  {
   "cell_type": "code",
   "execution_count": 6,
   "metadata": {
    "scrolled": false
   },
   "outputs": [
    {
     "name": "stdout",
     "output_type": "stream",
     "text": [
      "0.977 0.35 -2.53\n",
      "Omega_m_star = 0.977\n",
      "Omega_m = 0.2536344755970922\n",
      "h = 0.7482384635678215\n",
      "delta_lnA_star = -0.22314068918873717\n",
      "delta_n_star = -0.04726530191462741\n",
      "delta_alpha_star = 0.0\n",
      "delta_lnAs = -0.04878468806337602\n",
      "delta_ns = -0.04726530191462741\n",
      "delta_nrun = 0.0\n",
      "As = 2.0000109522421007e-09\n",
      "ns = 0.9177346980853726\n",
      "nrun = 0.0\n",
      "H0 = 7.4824E+01, Omega_bc = 2.5363E-01, A_s = 2.0000E-09, n_s = 9.1773E-01, alpha_s = 0.0000E+00\n",
      "1.4765169096315937e-09\n",
      "0.977 0.35 -2.43\n",
      "Omega_m_star = 0.977\n",
      "Omega_m = 0.2536344755970922\n",
      "h = 0.7482384635678215\n",
      "delta_lnA_star = -0.22314068918873717\n",
      "delta_n_star = 0.052734698085372234\n",
      "delta_alpha_star = 0.0\n",
      "delta_lnAs = -0.41767263347476835\n",
      "delta_ns = 0.052734698085372234\n",
      "delta_nrun = 0.0\n",
      "As = 1.3830133578695658e-09\n",
      "ns = 1.017734698085372\n",
      "nrun = 0.0\n",
      "H0 = 7.4824E+01, Omega_bc = 2.5363E-01, A_s = 1.3830E-09, n_s = 1.0177E+00, alpha_s = 0.0000E+00\n",
      "1.47651690963159e-09\n",
      "0.977 0.55 -2.53\n",
      "Omega_m_star = 0.977\n",
      "Omega_m = 0.2536344755970922\n",
      "h = 0.7482384635678215\n",
      "delta_lnA_star = 0.2288444345543201\n",
      "delta_n_star = -0.04726530191462741\n",
      "delta_alpha_star = 0.0\n",
      "delta_lnAs = 0.4032004356796812\n",
      "delta_ns = -0.04726530191462741\n",
      "delta_nrun = 0.0\n",
      "As = 3.1428743535233014e-09\n",
      "ns = 0.9177346980853726\n",
      "nrun = 0.0\n",
      "H0 = 7.4824E+01, Omega_bc = 2.5363E-01, A_s = 3.1429E-09, n_s = 9.1773E-01, alpha_s = 0.0000E+00\n",
      "2.3202408579925046e-09\n",
      "0.977 0.55 -2.43\n",
      "Omega_m_star = 0.977\n",
      "Omega_m = 0.2536344755970922\n",
      "h = 0.7482384635678215\n",
      "delta_lnA_star = 0.2288444345543201\n",
      "delta_n_star = 0.052734698085372234\n",
      "delta_alpha_star = 0.0\n",
      "delta_lnAs = 0.03431249026828895\n",
      "delta_ns = 0.052734698085372234\n",
      "delta_nrun = 0.0\n",
      "As = 2.1733067052236034e-09\n",
      "ns = 1.017734698085372\n",
      "nrun = 0.0\n",
      "H0 = 7.4824E+01, Omega_bc = 2.5363E-01, A_s = 2.1733E-09, n_s = 1.0177E+00, alpha_s = 0.0000E+00\n",
      "2.3202408579924988e-09\n",
      "0.986 0.35 -2.53\n",
      "Omega_m_star = 0.986\n",
      "Omega_m = 0.36038011695906375\n",
      "h = 0.6277168131935957\n",
      "delta_lnA_star = -0.2264779379584101\n",
      "delta_n_star = -0.04726569651275092\n",
      "delta_alpha_star = 0.0\n",
      "delta_lnAs = -0.0521204812081385\n",
      "delta_ns = -0.04726569651275092\n",
      "delta_nrun = 0.0\n",
      "As = 1.9933504446322125e-09\n",
      "ns = 0.917734303487249\n",
      "nrun = 0.0\n",
      "H0 = 6.2772E+01, Omega_bc = 3.6038E-01, A_s = 1.9934E-09, n_s = 9.1773E-01, alpha_s = 0.0000E+00\n",
      "1.4715976184064222e-09\n",
      "0.986 0.35 -2.43\n",
      "Omega_m_star = 0.986\n",
      "Omega_m = 0.36038011695906375\n",
      "h = 0.6277168131935957\n",
      "delta_lnA_star = -0.2264779379584101\n",
      "delta_n_star = 0.052734303487248724\n",
      "delta_alpha_star = 0.0\n",
      "delta_lnAs = -0.4210084266195308\n",
      "delta_ns = 0.052734303487248724\n",
      "delta_nrun = 0.0\n",
      "As = 1.3784075975939378e-09\n",
      "ns = 1.0177343034872486\n",
      "nrun = 0.0\n",
      "H0 = 6.2772E+01, Omega_bc = 3.6038E-01, A_s = 1.3784E-09, n_s = 1.0177E+00, alpha_s = 0.0000E+00\n",
      "1.4715976184064236e-09\n",
      "0.986 0.55 -2.53\n",
      "Omega_m_star = 0.986\n",
      "Omega_m = 0.36038011695906375\n",
      "h = 0.6277168131935957\n",
      "delta_lnA_star = 0.22550718578464718\n",
      "delta_n_star = -0.04726569651275092\n",
      "delta_alpha_star = 0.0\n",
      "delta_lnAs = 0.39986464253491877\n",
      "delta_ns = -0.04726569651275092\n",
      "delta_nrun = 0.0\n",
      "As = 3.132407841564905e-09\n",
      "ns = 0.917734303487249\n",
      "nrun = 0.0\n",
      "H0 = 6.2772E+01, Omega_bc = 3.6038E-01, A_s = 3.1324E-09, n_s = 9.1773E-01, alpha_s = 0.0000E+00\n",
      "2.3125105432100917e-09\n",
      "0.986 0.55 -2.43\n",
      "Omega_m_star = 0.986\n",
      "Omega_m = 0.36038011695906375\n",
      "h = 0.6277168131935957\n",
      "delta_lnA_star = 0.22550718578464718\n",
      "delta_n_star = 0.052734303487248724\n",
      "delta_alpha_star = 0.0\n",
      "delta_lnAs = 0.030976697123526464\n",
      "delta_ns = 0.052734303487248724\n",
      "delta_nrun = 0.0\n",
      "As = 2.1660690819333306e-09\n",
      "ns = 1.0177343034872486\n",
      "nrun = 0.0\n",
      "H0 = 6.2772E+01, Omega_bc = 3.6038E-01, A_s = 2.1661E-09, n_s = 1.0177E+00, alpha_s = 0.0000E+00\n",
      "2.3125105432100942e-09\n"
     ]
    }
   ],
   "source": [
    "#Get input cosmology for output parameters\n",
    "for Om_star in [0.977, 0.986]:\n",
    "    for Delta2_star in [0.35, 0.55]:\n",
    "        for n_star in [-2.53, -2.43]:\n",
    "            print(Om_star, Delta2_star, n_star)\n",
    "            simulation_output_parameters = np.array([Om_star, Delta2_star, 0., 1., 0., n_star, 1., 1.])\n",
    "            cosmo_sim = sim_params_cosmo.cosmo_from_sim_params(params, simulation_output_parameters, linP_model_fid, verbose=True)\n",
    "            As_kp_Mpc = cosmo_sim.InitPower.As * ((kp_Mpc / cosmo_sim.InitPower.pivot_scalar) ** (cosmo_sim.InitPower.ns - 1))\n",
    "            print(As_kp_Mpc)\n"
   ]
  },
  {
   "cell_type": "code",
   "execution_count": null,
   "metadata": {},
   "outputs": [],
   "source": [
    "cosmo_sim.InitPower.As\n"
   ]
  },
  {
   "cell_type": "markdown",
   "metadata": {},
   "source": [
    " - For each point in cube, write configuration files to run simulation"
   ]
  },
  {
   "cell_type": "code",
   "execution_count": null,
   "metadata": {},
   "outputs": [],
   "source": [
    "zs=np.arange(1.8, 5.6, 0.2)\n",
    "print('Redshifts =', zs)\n",
    "sims_dir='test_cube/'\n",
    "#os.makedirs(sims_dir,exist_ok=True)\n",
    "#write_config.write_cube_json_file(sims_dir,params,cube)\n",
    "info_cosmologies=[]\n",
    "for sample in range(nsamples):\n",
    "    sim_params=cube[sample]\n",
    "    print(sample,sim_params)\n",
    "    cosmo_sim=sim_params_cosmo.cosmo_from_sim_params(params,sim_params,linP_model_fid,verbose=False)\n",
    "    sim_dir=sims_dir+'/sim_pair_'+str(sample)+'/'\n",
    "    #os.makedirs(sim_dir,exist_ok=True)\n",
    "    # construct linear power model and store in JSON format\n",
    "    linP_model_sim=fit_linP.LinearPowerModel(cosmo_sim,z_star=z_star,k_units='Mpc',kp=kp_Mpc)\n",
    "    #write_config.write_sim_json_file(sim_dir,params,sim_params,linP_model_sim,zs=zs)\n",
    "    # store information for plots\n",
    "    info_cosmo={'cosmo':cosmo_sim,'sim_params':sim_params,'linP_params':linP_model_sim.get_params()}\n",
    "    info_cosmologies.append(info_cosmo)"
   ]
  },
  {
   "cell_type": "code",
   "execution_count": null,
   "metadata": {
    "scrolled": false
   },
   "outputs": [],
   "source": [
    "print(cosmo_sim)\n"
   ]
  },
  {
   "cell_type": "code",
   "execution_count": null,
   "metadata": {},
   "outputs": [],
   "source": [
    "print('linP_params',info_cosmologies[0]['linP_params'])\n",
    "print('sim_params',info_cosmologies[0]['sim_params'])"
   ]
  },
  {
   "cell_type": "code",
   "execution_count": null,
   "metadata": {},
   "outputs": [],
   "source": [
    "# plot corner plot for derived parameters\n",
    "derived_labels=[r'$H_0$',r'$\\Omega_m$',r'$A_s$']\n",
    "if add_slope:\n",
    "    derived_labels.append(r'$n_s$')\n",
    "if add_running:\n",
    "    derived_labels.append(r'$\\alpha_s$')\n",
    "Npar=len(derived_labels)\n",
    "Ncos=len(info_cosmologies)\n",
    "print(derived_labels)\n",
    "derived_params=np.ndarray([Ncos,Npar])\n",
    "for icosmo in range(Ncos):\n",
    "    cosmo = info_cosmologies[icosmo]['cosmo']\n",
    "    H0=cosmo.H0\n",
    "    h=H0/100.0\n",
    "    omh2=cosmo.omch2+cosmo.ombh2\n",
    "    derived_params[icosmo][0]=H0\n",
    "    derived_params[icosmo][1]=(omh2/h**2)\n",
    "    derived_params[icosmo][2]=cosmo.InitPower.As\n",
    "    if add_slope:\n",
    "        derived_params[icosmo][3]=cosmo.InitPower.ns\n",
    "    if add_running:\n",
    "        derived_params[icosmo][4]=cosmo.InitPower.nrun\n",
    "corner.corner(derived_params,labels=derived_labels)"
   ]
  },
  {
   "cell_type": "code",
   "execution_count": null,
   "metadata": {},
   "outputs": [],
   "source": [
    "arxiv=p1d_arxiv.ArxivP1D(basedir=sims_dir,skewers_label=None,verbose=True)\n",
    "Nmodels=len(arxiv.data)\n",
    "print('# models =',Nmodels)"
   ]
  },
  {
   "cell_type": "code",
   "execution_count": null,
   "metadata": {},
   "outputs": [],
   "source": [
    "labels=[r'$\\Delta_p^2$',r'$n_p$',r'$\\alpha_p$',r'$f_p$']\n",
    "Npar=len(labels)\n",
    "database=np.empty([Nmodels,Npar])\n",
    "database[:,0]=arxiv.Delta2_p\n",
    "database[:,1]=arxiv.n_p\n",
    "database[:,2]=arxiv.alpha_p\n",
    "database[:,3]=arxiv.f_p"
   ]
  },
  {
   "cell_type": "code",
   "execution_count": null,
   "metadata": {},
   "outputs": [],
   "source": [
    "corner.corner(database, labels=labels,plot_contours=False)"
   ]
  },
  {
   "cell_type": "code",
   "execution_count": null,
   "metadata": {},
   "outputs": [],
   "source": [
    "def plot_parameter_pair(arxiv,param_1,param_2,plot_z=True):\n",
    "    # figure out values of param_1,param_2 in arxiv\n",
    "    val_1=np.array([arxiv.data[i][param_1] for i in range(len(arxiv.data))])\n",
    "    print(param_1,'first values in arxiv',val_1[:5])\n",
    "    val_2=np.array([arxiv.data[i][param_2] for i in range(len(arxiv.data))])\n",
    "    print(param_2,'first values in arxiv',val_2[:5])\n",
    "    if plot_z:\n",
    "        z=np.array([arxiv.data[i]['z'] for i in range(len(arxiv.data))])\n",
    "        zmin=min(z)\n",
    "        zmax=max(z)\n",
    "        plt.scatter(val_1,val_2,c=z,s=5,vmin=zmin, vmax=zmax)\n",
    "        cbar=plt.colorbar()\n",
    "        cbar.set_label(\"Redshift\", labelpad=+1)\n",
    "    else:\n",
    "        plt.scatter(val_1,val_2,s=5)\n",
    "    plt.xlabel(param_1)\n",
    "    plt.ylabel(param_2)"
   ]
  },
  {
   "cell_type": "code",
   "execution_count": null,
   "metadata": {},
   "outputs": [],
   "source": [
    "plot_parameter_pair(arxiv,'Delta2_p','f_p')"
   ]
  },
  {
   "cell_type": "code",
   "execution_count": null,
   "metadata": {},
   "outputs": [],
   "source": [
    "plot_parameter_pair(arxiv,'n_p','alpha_p')"
   ]
  },
  {
   "cell_type": "code",
   "execution_count": null,
   "metadata": {},
   "outputs": [],
   "source": []
  }
 ],
 "metadata": {
  "kernelspec": {
   "display_name": "Python 3",
   "language": "python",
   "name": "python3"
  },
  "language_info": {
   "codemirror_mode": {
    "name": "ipython",
    "version": 3
   },
   "file_extension": ".py",
   "mimetype": "text/x-python",
   "name": "python",
   "nbconvert_exporter": "python",
   "pygments_lexer": "ipython3",
   "version": "3.6.3"
  }
 },
 "nbformat": 4,
 "nbformat_minor": 2
}
