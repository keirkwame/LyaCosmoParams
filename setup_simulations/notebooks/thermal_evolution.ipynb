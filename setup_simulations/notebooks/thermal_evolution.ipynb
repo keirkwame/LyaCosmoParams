{
 "cells": [
  {
   "cell_type": "code",
   "execution_count": 1,
   "metadata": {},
   "outputs": [],
   "source": [
    "import numpy as np\n",
    "import copy as cp\n",
    "import astropy.units as u\n",
    "import matplotlib.pyplot as plt\n",
    "%matplotlib inline\n",
    "\n",
    "import thermal_evolution as te\n"
   ]
  },
  {
   "cell_type": "code",
   "execution_count": 2,
   "metadata": {},
   "outputs": [],
   "source": [
    "data_directory = '/Users/kwame/Simulations/THERMAL/RE__Visit/NVB_C009_l20n1024_S12345TAB_thermal_evol'\n",
    "data_filename_root = 'NVB_C009_l20n1024_S12345T'\n",
    "data_filename_suffix = '_thermal_evol.dat'\n",
    "data_legend = '/Users/kwame/Simulations/THERMAL/RE__Visit/legend_TAB.txt'\n",
    "\n",
    "thermal_evolution_instance = te.THERMALThermalEvolution(data_directory, data_filename_root, data_filename_suffix, data_legend)\n"
   ]
  },
  {
   "cell_type": "code",
   "execution_count": null,
   "metadata": {},
   "outputs": [],
   "source": [
    "data_filename = '/Users/kwame/Simulations/emulator/IGM_tables.txt'\n",
    "\n",
    "thermal_evolution_instance = te.MPGadgetThermalEvolution(data_filename)\n"
   ]
  },
  {
   "cell_type": "code",
   "execution_count": 3,
   "metadata": {},
   "outputs": [],
   "source": [
    "thermal_evolution_instance.train_interpolator(4.2, use_parameter=[True, True, True])\n",
    "#thermal_evolution_instance.train_interpolator(2., use_parameter=[False, True, True, True])\n"
   ]
  },
  {
   "cell_type": "code",
   "execution_count": 5,
   "metadata": {},
   "outputs": [
    {
     "name": "stdout",
     "output_type": "stream",
     "text": [
      "6000.0 K 0.88 80.0 kpc\n",
      "A = 0.8916348966359564\n",
      "B = -0.8318815955007293\n",
      "6000.0 K 1.47 80.0 kpc\n",
      "A = 0.7332297749769374\n",
      "B = 0.036567803448546154\n",
      "12600.0 K 0.88 80.0 kpc\n",
      "A = 1.6165389436514719\n",
      "B = -1.06542196420137\n",
      "12600.0 K 1.47 80.0 kpc\n",
      "A = 1.4447956042900345\n",
      "B = -0.17798559273784864\n"
     ]
    }
   ],
   "source": [
    "#T0_range, gamma_range, filtering_length_range = [3000., 15000.]*u.K , [0.7, 1.7]*u.dimensionless_unscaled, [40., 130.]*u.kpc\n",
    "#T0_range, gamma_range, filtering_length_range = [6000., 12600.]*u.K , [0.88, 1.47]*u.dimensionless_unscaled, [40., 130.]*u.kpc\n",
    "T0_range, gamma_range, filtering_length_range = [6000., 12600.]*u.K , [0.88, 1.47]*u.dimensionless_unscaled, [80.,]*u.kpc\n",
    "\n",
    "for T0 in T0_range:\n",
    "    for gamma in gamma_range:\n",
    "        for filtering_length in filtering_length_range:\n",
    "            print(T0, gamma, filtering_length)\n",
    "            print('A =', thermal_evolution_instance.predict_A([T0.value, gamma.value, filtering_length.value]))\n",
    "            print('B =', thermal_evolution_instance.predict_B([T0.value, gamma.value, filtering_length.value]))\n"
   ]
  },
  {
   "cell_type": "code",
   "execution_count": null,
   "metadata": {},
   "outputs": [],
   "source": [
    "plot_grid_shape = (100, 100)\n",
    "\n",
    "plot_grid_T0 = np.linspace(3000., 27000., num=plot_grid_shape[0]) * u.K\n",
    "plot_grid_gamma = np.linspace(0.7, 2.5, num=plot_grid_shape[0]) * u.dimensionless_unscaled\n",
    "plot_grid_filtering = np.linspace(40., 170., num=plot_grid_shape[0]) * u.kpc\n",
    "plot_grid_mean_flux = np.linspace(0.1, 0.6, num=plot_grid_shape[0]) * u.dimensionless_unscaled\n",
    "\n",
    "plot_grid_T0_fixed = np.ones(plot_grid_shape) #T0\n",
    "plot_grid_gamma_fixed = np.ones(plot_grid_shape) #gamma\n",
    "plot_grid_filtering_fixed = np.ones(plot_grid_shape) #filtering_length\n",
    "plot_grid_mean_flux = np.ones(plot_grid_shape) #mean_flux\n"
   ]
  },
  {
   "cell_type": "code",
   "execution_count": null,
   "metadata": {
    "scrolled": false
   },
   "outputs": [],
   "source": [
    "thermal_parameter_labels = [r'$T_0$ (K)', r'$\\gamma$', r'$\\lambda_f$ (ckpc)']\n",
    "thermal_parameters_fixed_values = np.array([[4000., 9000., 24000.], [0.8, 1.2, 2.4], [40., 75., 125.]])\n",
    "plot_grid_list = [plot_grid_T0.value, plot_grid_gamma.value, plot_grid_filtering.value]\n",
    "n_sub_rows = 3\n",
    "\n",
    "fig, axes = plt.subplots(nrows=len(plot_grid_list)*n_sub_rows, ncols=3, figsize=[20., 30.])\n",
    "plt.subplots_adjust(hspace=0.4)\n",
    "\n",
    "for i in range(len(plot_grid_list)):\n",
    "    for j in range(axes.shape[1]):\n",
    "        for k in range(3):\n",
    "            parameter_indices_that_vary = np.delete(np.arange(len(plot_grid_list)), i).astype(np.int)\n",
    "            plot_grid_list_with_fixed_value = cp.deepcopy(plot_grid_list)\n",
    "            plot_grid_list_with_fixed_value[i] = np.ones(plot_grid_shape) * thermal_parameters_fixed_values[i, j]\n",
    "            plot_grid_list_with_fixed_value[parameter_indices_that_vary[0]] = plot_grid_list_with_fixed_value[parameter_indices_that_vary[0]][:, np.newaxis] * np.ones(plot_grid_shape)\n",
    "            plot_grid_list_with_fixed_value[parameter_indices_that_vary[1]] = plot_grid_list_with_fixed_value[parameter_indices_that_vary[1]][np.newaxis, :] * np.ones(plot_grid_shape)\n",
    "\n",
    "            if k == 0:\n",
    "                im0 = axes[i * n_sub_rows, j].imshow(thermal_evolution_instance.predict_A(plot_grid_list_with_fixed_value), aspect='auto',\n",
    "                                      extent=[np.min(plot_grid_list[parameter_indices_that_vary[1]]), np.max(plot_grid_list[parameter_indices_that_vary[1]]), np.max(plot_grid_list[parameter_indices_that_vary[0]]), np.min(plot_grid_list[parameter_indices_that_vary[0]])])\n",
    "                cbar0 = fig.colorbar(im0, ax=axes[i * n_sub_rows, j])\n",
    "                cbar0.set_label(r'$A$', rotation=0)\n",
    "\n",
    "                scat0 = axes[i * n_sub_rows, j].scatter(thermal_evolution_instance.training_thermal_parameters_pivot_redshift[:, parameter_indices_that_vary[1]],\n",
    "                                      thermal_evolution_instance.training_thermal_parameters_pivot_redshift[:, parameter_indices_that_vary[0]],\n",
    "                                      c=thermal_evolution_instance.training_thermal_parameters_pivot_redshift[:, i], cmap='Greys') #, norm=True)\n",
    "\n",
    "                axes[i * n_sub_rows, j].set_title(thermal_parameter_labels[i] + r'$= %.1f$'%thermal_parameters_fixed_values[i, j])\n",
    "\n",
    "            if k == 1:\n",
    "                im1 = axes[i * n_sub_rows + 1, j].imshow(thermal_evolution_instance.predict_B(plot_grid_list_with_fixed_value), aspect='auto',\n",
    "                                      extent=[np.min(plot_grid_list[parameter_indices_that_vary[1]]), np.max(plot_grid_list[parameter_indices_that_vary[1]]), np.max(plot_grid_list[parameter_indices_that_vary[0]]), np.min(plot_grid_list[parameter_indices_that_vary[0]])],\n",
    "                                               cmap='inferno')\n",
    "                cbar1 = fig.colorbar(im1, ax=axes[i * n_sub_rows + 1, j])\n",
    "                cbar1.set_label(r'$B$', rotation=0)\n",
    "\n",
    "                axes[i * n_sub_rows + 1, j].scatter(thermal_evolution_instance.training_thermal_parameters_pivot_redshift[:, parameter_indices_that_vary[1]],\n",
    "                                      thermal_evolution_instance.training_thermal_parameters_pivot_redshift[:, parameter_indices_that_vary[0]],\n",
    "                                           c=thermal_evolution_instance.training_thermal_parameters_pivot_redshift[:, i], cmap='Greys')\n",
    "\n",
    "                #axes[i * n_sub_rows + 1, j].set_xlabel(thermal_parameter_labels[parameter_indices_that_vary[1]])\n",
    "\n",
    "            if k == 2:\n",
    "                im2 = axes[i * n_sub_rows + 2, j].imshow(thermal_evolution_instance.predict_z_reionisation(plot_grid_list_with_fixed_value), aspect='auto',\n",
    "                                      extent=[np.min(plot_grid_list[parameter_indices_that_vary[1]]), np.max(plot_grid_list[parameter_indices_that_vary[1]]), np.max(plot_grid_list[parameter_indices_that_vary[0]]), np.min(plot_grid_list[parameter_indices_that_vary[0]])],\n",
    "                                               cmap='Purples')\n",
    "                cbar2 = fig.colorbar(im2, ax=axes[i * n_sub_rows + 2, j])\n",
    "                cbar2.set_label(r'$z_{rei}$', rotation=0)\n",
    "\n",
    "                axes[i * n_sub_rows + 2, j].scatter(thermal_evolution_instance.training_thermal_parameters_pivot_redshift[:, parameter_indices_that_vary[1]],\n",
    "                                      thermal_evolution_instance.training_thermal_parameters_pivot_redshift[:, parameter_indices_that_vary[0]],\n",
    "                                           c=thermal_evolution_instance.training_thermal_parameters_pivot_redshift[:, i], cmap='Greys')\n",
    "\n",
    "                axes[i * n_sub_rows + 2, j].set_xlabel(thermal_parameter_labels[parameter_indices_that_vary[1]])\n",
    "\n",
    "        if j == 0:\n",
    "            axes[i * n_sub_rows, j].set_ylabel(thermal_parameter_labels[parameter_indices_that_vary[0]])\n",
    "            axes[i * n_sub_rows + 1, j].set_ylabel(thermal_parameter_labels[parameter_indices_that_vary[0]])\n",
    "            axes[i * n_sub_rows + 2, j].set_ylabel(thermal_parameter_labels[parameter_indices_that_vary[0]])\n",
    "#cbar_scat0 = fig.colorbar(scat0, ax=axes[i * n_sub_rows + 2, j], orientation='horizontal')\n",
    "#cbar_scat0.set_label(thermal_parameter_labels[i], rotation=0)\n",
    "#axes[i * n_sub_rows + 2, j].axis('off')\n"
   ]
  },
  {
   "cell_type": "code",
   "execution_count": null,
   "metadata": {
    "scrolled": false
   },
   "outputs": [],
   "source": [
    "thermal_parameter_labels = [r'$T_0$ (K)', r'$\\gamma$', r'$\\lambda_f$ (ckpc)']\n",
    "thermal_parameters_fixed_values = np.array([[4000., 9000., 24000.], [0.8, 1.2, 2.4], [40., 75., 125.]])\n",
    "plot_grid_list = [plot_grid_T0.value, plot_grid_gamma.value, plot_grid_filtering.value]\n",
    "n_sub_rows = 2\n",
    "\n",
    "fig, axes = plt.subplots(nrows=len(plot_grid_list)*n_sub_rows, ncols=3, figsize=[20., 20.])\n",
    "plt.subplots_adjust(hspace=0.4)\n",
    "\n",
    "for i in range(len(plot_grid_list)):\n",
    "    for j in range(axes.shape[1]):\n",
    "        for k in range(2):\n",
    "            parameter_indices_that_vary = np.delete(np.arange(len(plot_grid_list)), i).astype(np.int)\n",
    "            plot_grid_list_with_fixed_value = cp.deepcopy(plot_grid_list)\n",
    "            plot_grid_list_with_fixed_value[i] = np.ones(plot_grid_shape) * thermal_parameters_fixed_values[i, j]\n",
    "            plot_grid_list_with_fixed_value[parameter_indices_that_vary[0]] = plot_grid_list_with_fixed_value[parameter_indices_that_vary[0]][:, np.newaxis] * np.ones(plot_grid_shape)\n",
    "            plot_grid_list_with_fixed_value[parameter_indices_that_vary[1]] = plot_grid_list_with_fixed_value[parameter_indices_that_vary[1]][np.newaxis, :] * np.ones(plot_grid_shape)\n",
    "\n",
    "            if k == 0:\n",
    "                im0 = axes[i * n_sub_rows, j].imshow(thermal_evolution_instance.predict_A(plot_grid_list_with_fixed_value), aspect='auto',\n",
    "                                      extent=[np.min(plot_grid_list[parameter_indices_that_vary[1]]), np.max(plot_grid_list[parameter_indices_that_vary[1]]), np.max(plot_grid_list[parameter_indices_that_vary[0]]), np.min(plot_grid_list[parameter_indices_that_vary[0]])])\n",
    "                cbar0 = fig.colorbar(im0, ax=axes[i * n_sub_rows, j])\n",
    "                cbar0.set_label(r'$A$', rotation=0)\n",
    "\n",
    "                scat0 = axes[i * n_sub_rows, j].scatter(thermal_evolution_instance.training_thermal_parameters_pivot_redshift[:, parameter_indices_that_vary[1]],\n",
    "                                      thermal_evolution_instance.training_thermal_parameters_pivot_redshift[:, parameter_indices_that_vary[0]],\n",
    "                                      c=thermal_evolution_instance.training_thermal_parameters_pivot_redshift[:, i], cmap='Greys') #, norm=True)\n",
    "\n",
    "                axes[i * n_sub_rows, j].set_title(thermal_parameter_labels[i] + r'$= %.1f$'%thermal_parameters_fixed_values[i, j])\n",
    "\n",
    "            if k == 1:\n",
    "                im1 = axes[i * n_sub_rows + 1, j].imshow(thermal_evolution_instance.predict_B(plot_grid_list_with_fixed_value), aspect='auto',\n",
    "                                      extent=[np.min(plot_grid_list[parameter_indices_that_vary[1]]), np.max(plot_grid_list[parameter_indices_that_vary[1]]), np.max(plot_grid_list[parameter_indices_that_vary[0]]), np.min(plot_grid_list[parameter_indices_that_vary[0]])],\n",
    "                                               cmap='inferno')\n",
    "                cbar1 = fig.colorbar(im1, ax=axes[i * n_sub_rows + 1, j])\n",
    "                cbar1.set_label(r'$B$', rotation=0)\n",
    "\n",
    "                axes[i * n_sub_rows + 1, j].scatter(thermal_evolution_instance.training_thermal_parameters_pivot_redshift[:, parameter_indices_that_vary[1]],\n",
    "                                      thermal_evolution_instance.training_thermal_parameters_pivot_redshift[:, parameter_indices_that_vary[0]],\n",
    "                                           c=thermal_evolution_instance.training_thermal_parameters_pivot_redshift[:, i], cmap='Greys')\n",
    "\n",
    "                axes[i * n_sub_rows + 1, j].set_xlabel(thermal_parameter_labels[parameter_indices_that_vary[1]])\n",
    "\n",
    "        if j == 0:\n",
    "            axes[i * n_sub_rows, j].set_ylabel(thermal_parameter_labels[parameter_indices_that_vary[0]])\n",
    "            axes[i * n_sub_rows + 1, j].set_ylabel(thermal_parameter_labels[parameter_indices_that_vary[0]])\n",
    "#cbar_scat0 = fig.colorbar(scat0, ax=axes[i * n_sub_rows + 2, j], orientation='horizontal')\n",
    "#cbar_scat0.set_label(thermal_parameter_labels[i], rotation=0)\n",
    "#axes[i * n_sub_rows + 2, j].axis('off')\n"
   ]
  },
  {
   "cell_type": "code",
   "execution_count": null,
   "metadata": {},
   "outputs": [],
   "source": [
    "plot_grid_1 = plot_grid_T0\n",
    "plot_grid_2 = plot_grid_filtering\n",
    "plot_grid_fixed = plot_grid_gamma_fixed\n",
    "plot_grid_list = [plot_grid_1.value, plot_grid_fixed.value, plot_grid_2.value]\n",
    "\n",
    "plt.imshow(thermal_evolution_instance.predict_A(plot_grid_list), aspect='auto', extent=[np.min(plot_grid_2.value), np.max(plot_grid_2.value), np.max(plot_grid_1.value), np.min(plot_grid_1.value)])\n",
    "plt.colorbar()\n",
    "\n",
    "plt.scatter(thermal_evolution_instance.training_thermal_parameters_pivot_redshift[:, 2],\n",
    "            thermal_evolution_instance.training_thermal_parameters_pivot_redshift[:, 0])\n"
   ]
  },
  {
   "cell_type": "code",
   "execution_count": null,
   "metadata": {},
   "outputs": [],
   "source": [
    "plt.imshow(thermal_evolution_instance.predict_B(plot_grid_list), aspect='auto',\n",
    "           extent=[np.min(plot_grid_2.value), np.max(plot_grid_2.value), np.max(plot_grid_1.value), np.min(plot_grid_1.value)],\n",
    "          ) #vmin=-2., vmax=2.)\n",
    "plt.colorbar()\n",
    "\n",
    "plt.scatter(thermal_evolution_instance.training_thermal_parameters_pivot_redshift[:, 2],\n",
    "            thermal_evolution_instance.training_thermal_parameters_pivot_redshift[:, 0])\n"
   ]
  },
  {
   "cell_type": "code",
   "execution_count": null,
   "metadata": {},
   "outputs": [],
   "source": [
    "print(thermal_evolution_instance.input_parameters)\n",
    "print(thermal_evolution_instance.thermal_parameters)\n"
   ]
  },
  {
   "cell_type": "code",
   "execution_count": null,
   "metadata": {
    "scrolled": false
   },
   "outputs": [],
   "source": [
    "plt.figure(figsize=[15., 15.])\n",
    "plt.xlabel(r'A')\n",
    "plt.ylabel(r'Filtering length (ckpc)')\n",
    "#plt.ylabel(r'T_0 (K)')\n",
    "#plt.ylabel(r'$\\gamma$')\n",
    "redshift = 4.\n",
    "for simulation_index in range(thermal_evolution_instance.n_simulations):\n",
    "    redshift_index = np.where(thermal_evolution_instance.thermal_parameters[simulation_index][:, 0] == redshift)\n",
    "    #print(redshift_index)\n",
    "    thermal_parameters_sim = thermal_evolution_instance.thermal_parameters[simulation_index][:, 3][redshift_index]\n",
    "    #print(simulation_index, thermal_parameters_sim)\n",
    "    #plt.scatter([simulation_index,] * thermal_parameters_sim.shape[0], thermal_parameters_sim)\n",
    "    A_sim = thermal_evolution_instance.input_parameters[simulation_index, 1]\n",
    "    B_sim = thermal_evolution_instance.input_parameters[simulation_index, 2]\n",
    "    if thermal_parameters_sim is not []:\n",
    "        plt.scatter(A_sim, thermal_parameters_sim, s=(B_sim+2.)*10.)\n",
    "#plt.xlabel(r'Simulation index')\n"
   ]
  },
  {
   "cell_type": "code",
   "execution_count": null,
   "metadata": {},
   "outputs": [],
   "source": []
  }
 ],
 "metadata": {
  "kernelspec": {
   "display_name": "Python 3",
   "language": "python",
   "name": "python3"
  },
  "language_info": {
   "codemirror_mode": {
    "name": "ipython",
    "version": 3
   },
   "file_extension": ".py",
   "mimetype": "text/x-python",
   "name": "python",
   "nbconvert_exporter": "python",
   "pygments_lexer": "ipython3",
   "version": "3.6.3"
  }
 },
 "nbformat": 4,
 "nbformat_minor": 2
}
