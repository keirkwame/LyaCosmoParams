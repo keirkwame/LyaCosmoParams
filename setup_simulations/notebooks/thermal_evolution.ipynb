{
 "cells": [
  {
   "cell_type": "code",
   "execution_count": null,
   "metadata": {},
   "outputs": [],
   "source": [
    "import numpy as np\n",
    "import astropy.units as u\n",
    "import matplotlib.pyplot as plt\n",
    "%matplotlib inline\n",
    "\n",
    "import thermal_evolution as te\n"
   ]
  },
  {
   "cell_type": "code",
   "execution_count": null,
   "metadata": {},
   "outputs": [],
   "source": [
    "data_directory = '/Users/kwame/Simulations/THERMAL/RE__Visit/NVB_C009_l20n1024_S12345TAB_thermal_evol'\n",
    "data_filename_root = 'NVB_C009_l20n1024_S12345T'\n",
    "data_filename_suffix = '_thermal_evol.dat'\n",
    "data_legend = '/Users/kwame/Simulations/THERMAL/RE__Visit/legend_TAB.txt'\n",
    "\n",
    "thermal_evolution_instance = te.ThermalEvolution(data_directory, data_filename_root, data_filename_suffix, data_legend)\n"
   ]
  },
  {
   "cell_type": "code",
   "execution_count": null,
   "metadata": {},
   "outputs": [],
   "source": [
    "thermal_evolution_instance.train_interpolator(4.)\n"
   ]
  },
  {
   "cell_type": "code",
   "execution_count": null,
   "metadata": {},
   "outputs": [],
   "source": [
    "T0, gamma, filtering_length = 9.48173e+03*u.K, 1.516, 125.*u.kpc #80.836*u.kpc\n",
    "\n",
    "print('A =', thermal_evolution_instance.predict_A(T0, gamma, filtering_length))\n",
    "print('B =', thermal_evolution_instance.predict_B(T0, gamma, filtering_length))\n"
   ]
  },
  {
   "cell_type": "code",
   "execution_count": null,
   "metadata": {},
   "outputs": [],
   "source": [
    "print(thermal_evolution_instance.input_parameters)\n",
    "print(thermal_evolution_instance.thermal_parameters)\n"
   ]
  },
  {
   "cell_type": "code",
   "execution_count": null,
   "metadata": {
    "scrolled": false
   },
   "outputs": [],
   "source": [
    "plt.figure(figsize=[15., 15.])\n",
    "plt.xlabel(r'A')\n",
    "#plt.ylabel(r'Filtering length (ckpc)')\n",
    "#plt.ylabel(r'T_0 (K)')\n",
    "plt.ylabel(r'$\\gamma$')\n",
    "redshift = 4.\n",
    "for simulation_index in range(thermal_evolution_instance.n_simulations):\n",
    "    redshift_index = np.where(thermal_evolution_instance.thermal_parameters[simulation_index][:, 0] == redshift)\n",
    "    #print(redshift_index)\n",
    "    thermal_parameters_sim = thermal_evolution_instance.thermal_parameters[simulation_index][:, 2][redshift_index]\n",
    "    #print(simulation_index, thermal_parameters_sim)\n",
    "    #plt.scatter([simulation_index,] * thermal_parameters_sim.shape[0], thermal_parameters_sim)\n",
    "    A_sim = thermal_evolution_instance.input_parameters[simulation_index, 1]\n",
    "    B_sim = thermal_evolution_instance.input_parameters[simulation_index, 2]\n",
    "    if thermal_parameters_sim is not []:\n",
    "        plt.scatter(A_sim, thermal_parameters_sim, s=(B_sim+2.)*10.)\n",
    "#plt.xlabel(r'Simulation index')\n"
   ]
  },
  {
   "cell_type": "code",
   "execution_count": null,
   "metadata": {},
   "outputs": [],
   "source": []
  }
 ],
 "metadata": {
  "kernelspec": {
   "display_name": "Python 3",
   "language": "python",
   "name": "python3"
  },
  "language_info": {
   "codemirror_mode": {
    "name": "ipython",
    "version": 3
   },
   "file_extension": ".py",
   "mimetype": "text/x-python",
   "name": "python",
   "nbconvert_exporter": "python",
   "pygments_lexer": "ipython3",
   "version": "3.6.3"
  }
 },
 "nbformat": 4,
 "nbformat_minor": 2
}
